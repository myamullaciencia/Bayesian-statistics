{
 "cells": [
  {
   "cell_type": "markdown",
   "metadata": {},
   "source": [
    "# Chapter 12"
   ]
  },
  {
   "cell_type": "code",
   "execution_count": 1,
   "metadata": {},
   "outputs": [],
   "source": [
    "import numpy as np\n",
    "import pandas as pd\n",
    "import matplotlib.pyplot as plt"
   ]
  },
  {
   "cell_type": "markdown",
   "metadata": {},
   "source": [
    "## The Euro problem\n",
    "\n",
    "In [a previous notebook](https://colab.research.google.com/github/AllenDowney/BiteSizeBayes/blob/master/07_euro.ipynb) I presented a problem from David MacKay's book, [*Information Theory, Inference, and Learning Algorithms*](http://www.inference.org.uk/mackay/itila/p0.html):\n",
    "\n",
    "> A statistical statement appeared in The Guardian on\n",
    "Friday January 4, 2002:\n",
    ">\n",
    "> >\"When spun on edge 250 times, a Belgian one-euro coin came\n",
    "up heads 140 times and tails 110. ‘It looks very suspicious\n",
    "to me’, said Barry Blight, a statistics lecturer at the London\n",
    "School of Economics. ‘If the coin were unbiased the chance of\n",
    "getting a result as extreme as that would be less than 7%’.\"\n",
    ">\n",
    "> But [asks MacKay] do these data give evidence that the coin is biased rather than fair?"
   ]
  },
  {
   "cell_type": "markdown",
   "metadata": {},
   "source": [
    "To answer this question, we made these modeling decisions:\n",
    "\n",
    "* If you spin a coin on edge, there is some probability, $x$, that it will land heads up.\n",
    "\n",
    "* The value of $x$ varies from one coin to the next, depending on how the coin is balanced and other factors.\n",
    "\n",
    "We started with a uniform prior distribution for $x$, then updated it 250 times, once for each spin of the coin.  Then we used the posterior distribution to compute the MAP, posterior mean, and a credible interval.\n",
    "\n",
    "But we never really answered MacKay's question.\n",
    "\n",
    "In this notebook, I introduce the binomial distribution and we will use it to solve the Euro problem more efficiently.  Then we'll get back to MacKay's question and see if we can find a more satisfying answer."
   ]
  },
  {
   "cell_type": "markdown",
   "metadata": {},
   "source": [
    "## Binomial distribution\n",
    "\n",
    "Suppose I tell you that a coin is \"fair\", that is, the probability of heads is 50%.  If you spin it twice, there are four outcomes: `HH`, `HT`, `TH`, and `TT`.\n",
    "\n",
    "All four outcomes have the same probability, 25%.  If we add up the total number of heads, it is either 0, 1, or 2.  The probability of 0 and 2 is 25%, and the probability of 1 is 50%.\n",
    "\n",
    "More generally, suppose the probability of heads is `p` and we spin the coin `n` times.  What is the probability that we get a total of `k` heads?\n",
    "\n",
    "The answer is given by the binomial distribution:\n",
    "\n",
    "$P(k; n, p) = \\binom{n}{k} p^k (1-p)^{n-k}$\n",
    "\n",
    "where $\\binom{n}{k}$ is the [binomial coefficient](https://en.wikipedia.org/wiki/Binomial_coefficient), usually pronounced \"n choose k\".\n",
    "\n",
    "We can compute this expression ourselves, but we can also use the SciPy function `binom.pmf`:"
   ]
  },
  {
   "cell_type": "code",
   "execution_count": 2,
   "metadata": {},
   "outputs": [
    {
     "data": {
      "text/plain": [
       "array([0.25, 0.5 , 0.25])"
      ]
     },
     "execution_count": 2,
     "metadata": {},
     "output_type": "execute_result"
    }
   ],
   "source": [
    "from scipy.stats import binom\n",
    "\n",
    "n = 2\n",
    "p = 0.5\n",
    "ks = np.arange(n+1)\n",
    "\n",
    "a = binom.pmf(ks, n, p)\n",
    "a"
   ]
  },
  {
   "cell_type": "markdown",
   "metadata": {},
   "source": [
    "If we put this result in a Series, the result is the distribution of `k` for the given values of `n` and `p`."
   ]
  },
  {
   "cell_type": "code",
   "execution_count": 3,
   "metadata": {},
   "outputs": [
    {
     "data": {
      "text/plain": [
       "0    0.25\n",
       "1    0.50\n",
       "2    0.25\n",
       "dtype: float64"
      ]
     },
     "execution_count": 3,
     "metadata": {},
     "output_type": "execute_result"
    }
   ],
   "source": [
    "pmf_k = pd.Series(a, index=ks)\n",
    "pmf_k"
   ]
  },
  {
   "cell_type": "markdown",
   "metadata": {},
   "source": [
    "The following function computes the binomial distribution for given values of `n` and `p`:"
   ]
  },
  {
   "cell_type": "code",
   "execution_count": 4,
   "metadata": {},
   "outputs": [],
   "source": [
    "def make_binomial(n, p):\n",
    "    \"\"\"Make a binomial PMF.\n",
    "    \n",
    "    n: number of spins\n",
    "    p: probability of heads\n",
    "    \n",
    "    returns: Series representing a PMF\n",
    "    \"\"\"\n",
    "    ks = np.arange(n+1)\n",
    "\n",
    "    a = binom.pmf(ks, n, p)\n",
    "    pmf_k = pd.Series(a, index=ks)\n",
    "    return pmf_k"
   ]
  },
  {
   "cell_type": "markdown",
   "metadata": {},
   "source": [
    "And here's what it looks like with `n=250` and `p=0.5`:"
   ]
  },
  {
   "cell_type": "code",
   "execution_count": 5,
   "metadata": {},
   "outputs": [
    {
     "data": {
      "image/png": "[encoded data removed]",
      "text/plain": [
       "<Figure size 432x288 with 1 Axes>"
      ]
     },
     "metadata": {
      "filenames": {
       "image/png": "/home/ec2-user/Bayesian-statistics/_build/jupyter_execute/12_binomial_11_0.png"
      },
      "needs_background": "light"
     },
     "output_type": "display_data"
    }
   ],
   "source": [
    "pmf_k = make_binomial(n=250, p=0.5)\n",
    "pmf_k.plot()\n",
    "\n",
    "plt.xlabel('Number of heads (k)')\n",
    "plt.ylabel('Probability')\n",
    "plt.title('Binomial distribution');"
   ]
  },
  {
   "cell_type": "markdown",
   "metadata": {},
   "source": [
    "The most likely value in this distribution is 125:"
   ]
  },
  {
   "cell_type": "code",
   "execution_count": 6,
   "metadata": {},
   "outputs": [
    {
     "data": {
      "text/plain": [
       "125"
      ]
     },
     "execution_count": 6,
     "metadata": {},
     "output_type": "execute_result"
    }
   ],
   "source": [
    "pmf_k.idxmax()"
   ]
  },
  {
   "cell_type": "markdown",
   "metadata": {},
   "source": [
    "But even though it is the most likely value, the probability that we get exactly 125 heads is only about 5%."
   ]
  },
  {
   "cell_type": "code",
   "execution_count": 7,
   "metadata": {},
   "outputs": [
    {
     "data": {
      "text/plain": [
       "0.05041221314731537"
      ]
     },
     "execution_count": 7,
     "metadata": {},
     "output_type": "execute_result"
    }
   ],
   "source": [
    "pmf_k[125]"
   ]
  },
  {
   "cell_type": "markdown",
   "metadata": {},
   "source": [
    "In MacKay's example, we got 140 heads, which is less likely than 125:"
   ]
  },
  {
   "cell_type": "code",
   "execution_count": 8,
   "metadata": {},
   "outputs": [
    {
     "data": {
      "text/plain": [
       "0.008357181724917673"
      ]
     },
     "execution_count": 8,
     "metadata": {},
     "output_type": "execute_result"
    }
   ],
   "source": [
    "pmf_k[140]"
   ]
  },
  {
   "cell_type": "markdown",
   "metadata": {},
   "source": [
    "In the article MacKay quotes, the statistician says, ‘If the coin were unbiased the chance of getting a result as extreme as that would be less than 7%’.\n",
    "\n",
    "We can use the binomial distribution to check his math.  The following function takes a PMF and computes the total probability of values greater than or equal to `threshold`. "
   ]
  },
  {
   "cell_type": "code",
   "execution_count": 9,
   "metadata": {},
   "outputs": [],
   "source": [
    "def prob_ge(pmf, threshold):\n",
    "    \"\"\"Probability of values greater than a threshold.\n",
    "    \n",
    "    pmf: Series representing a PMF\n",
    "    threshold: value to compare to\n",
    "    \n",
    "    returns: probability\n",
    "    \"\"\"\n",
    "    ge = (pmf.index >= threshold)\n",
    "    total = pmf[ge].sum()\n",
    "    return total"
   ]
  },
  {
   "cell_type": "markdown",
   "metadata": {},
   "source": [
    "Here's the probability of getting 140 heads or more:"
   ]
  },
  {
   "cell_type": "code",
   "execution_count": 10,
   "metadata": {},
   "outputs": [
    {
     "data": {
      "text/plain": [
       "0.033210575620022706"
      ]
     },
     "execution_count": 10,
     "metadata": {},
     "output_type": "execute_result"
    }
   ],
   "source": [
    "prob_ge(pmf_k, 140)"
   ]
  },
  {
   "cell_type": "markdown",
   "metadata": {},
   "source": [
    "It's about 3.3%, which is less than 7%.  The reason is that the statistician includes all values \"as extreme as\" 140, which includes values less than or equal to 110, because 140 exceeds the expected value by 15 and 110 falls short by 15."
   ]
  },
  {
   "cell_type": "markdown",
   "metadata": {},
   "source": [
    "The probability of values less than or equal to 110 is also 3.3%,\n",
    "so the total probability of values \"as extreme\" as 140 is about 7%.\n",
    "\n",
    "The point of this calculation is that these extreme values are unlikely if the coin is fair.\n",
    "\n",
    "That's interesting, but it doesn't answer MacKay's question.  Let's see if we can."
   ]
  },
  {
   "cell_type": "markdown",
   "metadata": {},
   "source": [
    "## Estimating x\n",
    "\n",
    "As promised, we can use the binomial distribution to solve the Euro problem more efficiently.  Let's start again with a uniform prior:"
   ]
  },
  {
   "cell_type": "code",
   "execution_count": 11,
   "metadata": {},
   "outputs": [],
   "source": [
    "xs = np.arange(101) / 100\n",
    "uniform = pd.Series(1, index=xs)\n",
    "uniform /= uniform.sum()"
   ]
  },
  {
   "cell_type": "markdown",
   "metadata": {},
   "source": [
    "We can use `binom.pmf` to compute the likelihood of the data for each possible value of $x$."
   ]
  },
  {
   "cell_type": "code",
   "execution_count": 12,
   "metadata": {},
   "outputs": [],
   "source": [
    "k = 140\n",
    "n = 250\n",
    "xs = uniform.index\n",
    "\n",
    "likelihood = binom.pmf(k, n, p=xs)"
   ]
  },
  {
   "cell_type": "markdown",
   "metadata": {},
   "source": [
    "Now we can do the Bayesian update in the usual way, multiplying the priors and likelihoods,"
   ]
  },
  {
   "cell_type": "code",
   "execution_count": 13,
   "metadata": {},
   "outputs": [],
   "source": [
    "posterior = uniform * likelihood"
   ]
  },
  {
   "cell_type": "markdown",
   "metadata": {},
   "source": [
    "Computing the total probability of the data,"
   ]
  },
  {
   "cell_type": "code",
   "execution_count": 14,
   "metadata": {},
   "outputs": [
    {
     "data": {
      "text/plain": [
       "0.003944617569326327"
      ]
     },
     "execution_count": 14,
     "metadata": {},
     "output_type": "execute_result"
    }
   ],
   "source": [
    "total = posterior.sum()\n",
    "total"
   ]
  },
  {
   "cell_type": "markdown",
   "metadata": {},
   "source": [
    "And normalizing the posterior,"
   ]
  },
  {
   "cell_type": "code",
   "execution_count": 15,
   "metadata": {},
   "outputs": [],
   "source": [
    "posterior /= total"
   ]
  },
  {
   "cell_type": "markdown",
   "metadata": {},
   "source": [
    "Here's what it looks like."
   ]
  },
  {
   "cell_type": "code",
   "execution_count": 16,
   "metadata": {},
   "outputs": [
    {
     "data": {
      "text/plain": [
       "<matplotlib.legend.Legend at 0x7fcebb63bb50>"
      ]
     },
     "execution_count": 16,
     "metadata": {},
     "output_type": "execute_result"
    },
    {
     "data": {
      "image/png": "[encoded data removed]",
      "text/plain": [
       "<Figure size 432x288 with 1 Axes>"
      ]
     },
     "metadata": {
      "filenames": {
       "image/png": "/home/ec2-user/Bayesian-statistics/_build/jupyter_execute/12_binomial_35_1.png"
      },
      "needs_background": "light"
     },
     "output_type": "display_data"
    }
   ],
   "source": [
    "posterior.plot(label='Uniform')\n",
    "\n",
    "plt.xlabel('Probability of heads (x)')\n",
    "plt.ylabel('Probability')\n",
    "plt.title('Posterior distribution, uniform prior')\n",
    "plt.legend()"
   ]
  },
  {
   "cell_type": "markdown",
   "metadata": {},
   "source": [
    "**Exercise:** Based on what we know about coins in the real world, it doesn't seem like every value of $x$ is equally likely.  I would expect values near 50% to be more likely and values near the extremes to be less likely.  \n",
    "\n",
    "In Notebook 7, we used a triangle prior to represent this belief about the distribution of $x$.  The following code makes a PMF that represents a triangle prior."
   ]
  },
  {
   "cell_type": "code",
   "execution_count": 17,
   "metadata": {},
   "outputs": [],
   "source": [
    "ramp_up = np.arange(50)\n",
    "ramp_down = np.arange(50, -1, -1)\n",
    "\n",
    "a = np.append(ramp_up, ramp_down)\n",
    "\n",
    "triangle = pd.Series(a, index=xs)\n",
    "triangle /= triangle.sum()"
   ]
  },
  {
   "cell_type": "markdown",
   "metadata": {},
   "source": [
    "Update this prior with the likelihoods we just computed and plot the results.  "
   ]
  },
  {
   "cell_type": "code",
   "execution_count": 18,
   "metadata": {},
   "outputs": [],
   "source": [
    "# Solution goes here"
   ]
  },
  {
   "cell_type": "code",
   "execution_count": 19,
   "metadata": {},
   "outputs": [],
   "source": [
    "# Solution goes here"
   ]
  },
  {
   "cell_type": "code",
   "execution_count": 20,
   "metadata": {},
   "outputs": [],
   "source": [
    "# Solution goes here"
   ]
  },
  {
   "cell_type": "markdown",
   "metadata": {},
   "source": [
    "## Evidence\n",
    "\n",
    "Finally, let's get back to MacKay's question: do these data give evidence that the coin is biased rather than fair?\n",
    "\n",
    "I'll use a Bayes table to answer this question, so here's the function that makes one:"
   ]
  },
  {
   "cell_type": "code",
   "execution_count": 21,
   "metadata": {},
   "outputs": [],
   "source": [
    "def make_bayes_table(hypos, prior, likelihood):\n",
    "    \"\"\"Make a Bayes table.\n",
    "    \n",
    "    hypos: sequence of hypotheses\n",
    "    prior: prior probabilities\n",
    "    likelihood: sequence of likelihoods\n",
    "    \n",
    "    returns: DataFrame\n",
    "    \"\"\"\n",
    "    table = pd.DataFrame(index=hypos)\n",
    "    table['prior'] = prior\n",
    "    table['likelihood'] = likelihood\n",
    "    table['unnorm'] = table['prior'] * table['likelihood']\n",
    "    prob_data = table['unnorm'].sum()\n",
    "    table['posterior'] = table['unnorm'] / prob_data\n",
    "    return table"
   ]
  },
  {
   "cell_type": "markdown",
   "metadata": {},
   "source": [
    "Recall that data, $D$, is considered evidence in favor of a hypothesis, `H`, if the posterior probability is greater than the prior, that is, if\n",
    "\n",
    "$P(H|D) > P(H)$\n",
    "\n",
    "For this example, I'll call the hypotheses `fair` and `biased`:"
   ]
  },
  {
   "cell_type": "code",
   "execution_count": 22,
   "metadata": {},
   "outputs": [],
   "source": [
    "hypos = ['fair', 'biased']"
   ]
  },
  {
   "cell_type": "markdown",
   "metadata": {},
   "source": [
    "And just to get started, I'll assume that the prior probabilities are 50/50."
   ]
  },
  {
   "cell_type": "code",
   "execution_count": 23,
   "metadata": {},
   "outputs": [],
   "source": [
    "prior = [0.5, 0.5]"
   ]
  },
  {
   "cell_type": "markdown",
   "metadata": {},
   "source": [
    "Now we have to compute the probability of the data under each hypothesis.\n",
    "\n",
    "If the coin is fair, the probability of heads is 50%, and we can compute the probability of the data (140 heads out of 250 spins) using the binomial distribution:"
   ]
  },
  {
   "cell_type": "code",
   "execution_count": 24,
   "metadata": {},
   "outputs": [
    {
     "data": {
      "text/plain": [
       "0.008357181724917673"
      ]
     },
     "execution_count": 24,
     "metadata": {},
     "output_type": "execute_result"
    }
   ],
   "source": [
    "k = 140\n",
    "n = 250\n",
    "\n",
    "like_fair = binom.pmf(k, n, p=0.5)\n",
    "like_fair"
   ]
  },
  {
   "cell_type": "markdown",
   "metadata": {},
   "source": [
    "So that's the probability of the data, given that the coin is fair.\n",
    "\n",
    "But if the coin is biased, what's the probability of the data?  Well, that depends on what \"biased\" means.\n",
    "\n",
    "If we know ahead of time that \"biased\" means the probability of heads is 56%, we can use the binomial distribution again:"
   ]
  },
  {
   "cell_type": "code",
   "execution_count": 25,
   "metadata": {},
   "outputs": [
    {
     "data": {
      "text/plain": [
       "0.05077815959517949"
      ]
     },
     "execution_count": 25,
     "metadata": {},
     "output_type": "execute_result"
    }
   ],
   "source": [
    "like_biased = binom.pmf(k, n, p=0.56)\n",
    "like_biased"
   ]
  },
  {
   "cell_type": "markdown",
   "metadata": {},
   "source": [
    "Now we can put the likelihoods in the Bayes table:"
   ]
  },
  {
   "cell_type": "code",
   "execution_count": 26,
   "metadata": {},
   "outputs": [
    {
     "data": {
      "text/html": [
       "<div>\n",
       "<style scoped>\n",
       "    .dataframe tbody tr th:only-of-type {\n",
       "        vertical-align: middle;\n",
       "    }\n",
       "\n",
       "    .dataframe tbody tr th {\n",
       "        vertical-align: top;\n",
       "    }\n",
       "\n",
       "    .dataframe thead th {\n",
       "        text-align: right;\n",
       "    }\n",
       "</style>\n",
       "<table border=\"1\" class=\"dataframe\">\n",
       "  <thead>\n",
       "    <tr style=\"text-align: right;\">\n",
       "      <th></th>\n",
       "      <th>prior</th>\n",
       "      <th>likelihood</th>\n",
       "      <th>unnorm</th>\n",
       "      <th>posterior</th>\n",
       "    </tr>\n",
       "  </thead>\n",
       "  <tbody>\n",
       "    <tr>\n",
       "      <th>fair</th>\n",
       "      <td>0.5</td>\n",
       "      <td>0.008357</td>\n",
       "      <td>0.004179</td>\n",
       "      <td>0.141323</td>\n",
       "    </tr>\n",
       "    <tr>\n",
       "      <th>biased</th>\n",
       "      <td>0.5</td>\n",
       "      <td>0.050778</td>\n",
       "      <td>0.025389</td>\n",
       "      <td>0.858677</td>\n",
       "    </tr>\n",
       "  </tbody>\n",
       "</table>\n",
       "</div>"
      ],
      "text/plain": [
       "        prior  likelihood    unnorm  posterior\n",
       "fair      0.5    0.008357  0.004179   0.141323\n",
       "biased    0.5    0.050778  0.025389   0.858677"
      ]
     },
     "execution_count": 26,
     "metadata": {},
     "output_type": "execute_result"
    }
   ],
   "source": [
    "likes = [like_fair, like_biased]\n",
    "\n",
    "make_bayes_table(hypos, prior, likes)"
   ]
  },
  {
   "cell_type": "markdown",
   "metadata": {},
   "source": [
    "The posterior probability of `biased` is about 86%, so the data is evidence that the coin is biased, at least for this definition of \"biased\".\n",
    "\n",
    "But we used the data to define the hypothesis, which seems like cheating.  To be fair, we should define \"biased\" before we see the data."
   ]
  },
  {
   "cell_type": "markdown",
   "metadata": {},
   "source": [
    "## Uniformly distributed bias\n",
    "\n",
    "Suppose \"biased\" means that the probability of heads is anything except 50%, and all other values are equally likely.\n",
    "\n",
    "We can represent that definition by making a uniform distribution and removing 50%."
   ]
  },
  {
   "cell_type": "code",
   "execution_count": 27,
   "metadata": {},
   "outputs": [],
   "source": [
    "biased_uniform = uniform.copy()\n",
    "biased_uniform[50] = 0\n",
    "biased_uniform /= biased_uniform.sum()"
   ]
  },
  {
   "cell_type": "markdown",
   "metadata": {},
   "source": [
    "Now, to compute the probability of the data under this hypothesis, we compute the probability of the data for each value of $x$."
   ]
  },
  {
   "cell_type": "code",
   "execution_count": 28,
   "metadata": {},
   "outputs": [],
   "source": [
    "xs = biased_uniform.index\n",
    "likelihood = binom.pmf(k, n, xs)"
   ]
  },
  {
   "cell_type": "markdown",
   "metadata": {},
   "source": [
    "And then compute the total probability in the usual way:"
   ]
  },
  {
   "cell_type": "code",
   "execution_count": 29,
   "metadata": {},
   "outputs": [
    {
     "data": {
      "text/plain": [
       "0.0039004919277704133"
      ]
     },
     "execution_count": 29,
     "metadata": {},
     "output_type": "execute_result"
    }
   ],
   "source": [
    "like_uniform = np.sum(biased_uniform * likelihood)\n",
    "like_uniform"
   ]
  },
  {
   "cell_type": "markdown",
   "metadata": {},
   "source": [
    "So that's the probability of the data under the \"biased uniform\" hypothesis.\n",
    "\n",
    "Now we make a Bayes table that compares the hypotheses `fair` and `biased uniform`:"
   ]
  },
  {
   "cell_type": "code",
   "execution_count": 30,
   "metadata": {},
   "outputs": [
    {
     "data": {
      "text/html": [
       "<div>\n",
       "<style scoped>\n",
       "    .dataframe tbody tr th:only-of-type {\n",
       "        vertical-align: middle;\n",
       "    }\n",
       "\n",
       "    .dataframe tbody tr th {\n",
       "        vertical-align: top;\n",
       "    }\n",
       "\n",
       "    .dataframe thead th {\n",
       "        text-align: right;\n",
       "    }\n",
       "</style>\n",
       "<table border=\"1\" class=\"dataframe\">\n",
       "  <thead>\n",
       "    <tr style=\"text-align: right;\">\n",
       "      <th></th>\n",
       "      <th>prior</th>\n",
       "      <th>likelihood</th>\n",
       "      <th>unnorm</th>\n",
       "      <th>posterior</th>\n",
       "    </tr>\n",
       "  </thead>\n",
       "  <tbody>\n",
       "    <tr>\n",
       "      <th>fair</th>\n",
       "      <td>0.5</td>\n",
       "      <td>0.008357</td>\n",
       "      <td>0.004179</td>\n",
       "      <td>0.681792</td>\n",
       "    </tr>\n",
       "    <tr>\n",
       "      <th>biased uniform</th>\n",
       "      <td>0.5</td>\n",
       "      <td>0.003900</td>\n",
       "      <td>0.001950</td>\n",
       "      <td>0.318208</td>\n",
       "    </tr>\n",
       "  </tbody>\n",
       "</table>\n",
       "</div>"
      ],
      "text/plain": [
       "                prior  likelihood    unnorm  posterior\n",
       "fair              0.5    0.008357  0.004179   0.681792\n",
       "biased uniform    0.5    0.003900  0.001950   0.318208"
      ]
     },
     "execution_count": 30,
     "metadata": {},
     "output_type": "execute_result"
    }
   ],
   "source": [
    "hypos = ['fair', 'biased uniform']\n",
    "likes = [like_fair, like_uniform]\n",
    "\n",
    "make_bayes_table(hypos, prior, likes)"
   ]
  },
  {
   "cell_type": "markdown",
   "metadata": {},
   "source": [
    "Using this definition of `biased`, the posterior is less than the prior, so the data are evidence that the coin is *fair*.\n",
    "\n",
    "In this example, the data might support the fair hypothesis or the biased hypothesis, depending on the definition of \"biased\"."
   ]
  },
  {
   "cell_type": "markdown",
   "metadata": {},
   "source": [
    "**Exercise:** Suppose \"biased\" doesn't mean every value of $x$ is equally likely.  Maybe values near 50% are more likely and values near the extremes are less likely.  In the previous exercise we created a PMF that represents a triangle-shaped distribution.\n",
    "\n",
    "We can use it to represent an alternative definition of \"biased\":"
   ]
  },
  {
   "cell_type": "code",
   "execution_count": 31,
   "metadata": {},
   "outputs": [],
   "source": [
    "biased_triangle = triangle.copy()\n",
    "biased_triangle[50] = 0\n",
    "biased_triangle /= biased_triangle.sum()"
   ]
  },
  {
   "cell_type": "markdown",
   "metadata": {},
   "source": [
    "Compute the total probability of the data under this definition of \"biased\" and use a Bayes table to compare it with the fair hypothesis.\n",
    "\n",
    "Is the data evidence that the coin is biased?"
   ]
  },
  {
   "cell_type": "code",
   "execution_count": 32,
   "metadata": {},
   "outputs": [],
   "source": [
    "# Solution goes here"
   ]
  },
  {
   "cell_type": "code",
   "execution_count": 33,
   "metadata": {},
   "outputs": [],
   "source": [
    "# Solution goes here"
   ]
  },
  {
   "cell_type": "code",
   "execution_count": 34,
   "metadata": {},
   "outputs": [],
   "source": [
    "# Solution goes here"
   ]
  },
  {
   "cell_type": "markdown",
   "metadata": {},
   "source": [
    "## Bayes factor\n",
    "\n",
    "In the previous section, we used a Bayes table to see whether the data are in favor of the fair or biased hypothesis.\n",
    "\n",
    "I assumed that the prior probabilities were 50/50, but that was an arbitrary choice.  \n",
    "\n",
    "And it was unnecessary, because we don't really need a Bayes table to say whether the data favor one hypothesis or another: we can just look at the likelihoods.\n",
    "\n",
    "Under the first definition of biased, `x=0.56`, the likelihood of the biased hypothesis is higher: "
   ]
  },
  {
   "cell_type": "code",
   "execution_count": 35,
   "metadata": {},
   "outputs": [
    {
     "data": {
      "text/plain": [
       "(0.008357181724917673, 0.05077815959517949)"
      ]
     },
     "execution_count": 35,
     "metadata": {},
     "output_type": "execute_result"
    }
   ],
   "source": [
    "like_fair, like_biased"
   ]
  },
  {
   "cell_type": "markdown",
   "metadata": {},
   "source": [
    "Under the biased uniform definition, the likelihood of the fair hypothesis is higher."
   ]
  },
  {
   "cell_type": "code",
   "execution_count": 36,
   "metadata": {},
   "outputs": [
    {
     "data": {
      "text/plain": [
       "(0.008357181724917673, 0.0039004919277704133)"
      ]
     },
     "execution_count": 36,
     "metadata": {},
     "output_type": "execute_result"
    }
   ],
   "source": [
    "like_fair, like_uniform"
   ]
  },
  {
   "cell_type": "markdown",
   "metadata": {},
   "source": [
    "The ratio of these likelihoods tells us which hypothesis the data support.\n",
    "\n",
    "If the ratio is less than 1, the data support the second hypothesis:"
   ]
  },
  {
   "cell_type": "code",
   "execution_count": 37,
   "metadata": {},
   "outputs": [
    {
     "data": {
      "text/plain": [
       "0.16458220998050985"
      ]
     },
     "execution_count": 37,
     "metadata": {},
     "output_type": "execute_result"
    }
   ],
   "source": [
    "like_fair / like_biased"
   ]
  },
  {
   "cell_type": "markdown",
   "metadata": {},
   "source": [
    "If the ratio is greater than 1, the data support the first hypothesis:"
   ]
  },
  {
   "cell_type": "code",
   "execution_count": 38,
   "metadata": {},
   "outputs": [
    {
     "data": {
      "text/plain": [
       "2.142596851801403"
      ]
     },
     "execution_count": 38,
     "metadata": {},
     "output_type": "execute_result"
    }
   ],
   "source": [
    "like_fair / like_uniform"
   ]
  },
  {
   "cell_type": "markdown",
   "metadata": {},
   "source": [
    "This likelihood ratio is called a [Bayes factor](https://en.wikipedia.org/wiki/Bayes_factor); it provides a concise way to present the strength of a dataset as evidence for or against a hypothesis."
   ]
  },
  {
   "cell_type": "markdown",
   "metadata": {},
   "source": [
    "## Summary\n",
    "\n",
    "In this notebook I introduced the binomial disrtribution and used it to solve the Euro problem more efficiently.\n",
    "\n",
    "Then we used the results to (finally) answer the original version of the Euro problem, considering whether the data support the hypothesis that the coin is fair or biased.  We found that the answer depends on how we define \"biased\".  And we summarized the results using a Bayes factor, which quantifies the strength of the evidence.\n",
    "\n",
    "[In the next notebook](https://colab.research.google.com/github/AllenDowney/BiteSizeBayes/blob/master/13_price.ipynb) we'll start on a new problem based on the television game show *The Price Is Right*."
   ]
  },
  {
   "cell_type": "markdown",
   "metadata": {},
   "source": [
    "## Exercises\n",
    "\n",
    "**Exercise:** In preparation for an alien invasion, the Earth Defense League has been working on new missiles to shoot down space invaders.  Of course, some missile designs are better than others; let's assume that each design has some probability of hitting an alien ship, `x`.\n",
    "\n",
    "Based on previous tests, the distribution of `x` in the population of designs is roughly uniform between 10% and 40%.\n",
    "\n",
    "Now suppose the new ultra-secret Alien Blaster 9000 is being tested.  In a press conference, a Defense League general reports that the new design has been tested twice, taking two shots during each test.  The results of the test are confidential, so the general won't say how many targets were hit, but they report: \"The same number of targets were hit in the two tests, so we have reason to think this new design is consistent.\"\n",
    "\n",
    "Is this data good or bad; that is, does it increase or decrease your estimate of `x` for the Alien Blaster 9000?\n",
    "\n",
    "Plot the prior and posterior distributions, and use the following function to compute the prior and posterior means."
   ]
  },
  {
   "cell_type": "code",
   "execution_count": 39,
   "metadata": {},
   "outputs": [],
   "source": [
    "def pmf_mean(pmf):\n",
    "    \"\"\"Compute the mean of a PMF.\n",
    "    \n",
    "    pmf: Series representing a PMF\n",
    "    \n",
    "    return: float\n",
    "    \"\"\"\n",
    "    return np.sum(pmf.index * pmf)"
   ]
  },
  {
   "cell_type": "code",
   "execution_count": 40,
   "metadata": {},
   "outputs": [],
   "source": [
    "# Solution goes here"
   ]
  },
  {
   "cell_type": "code",
   "execution_count": 41,
   "metadata": {},
   "outputs": [],
   "source": [
    "# Solution goes here"
   ]
  },
  {
   "cell_type": "code",
   "execution_count": 42,
   "metadata": {},
   "outputs": [],
   "source": [
    "# Solution goes here"
   ]
  },
  {
   "cell_type": "code",
   "execution_count": 43,
   "metadata": {},
   "outputs": [],
   "source": [
    "# Solution goes here"
   ]
  },
  {
   "cell_type": "code",
   "execution_count": 44,
   "metadata": {},
   "outputs": [],
   "source": [
    "# Solution goes here"
   ]
  },
  {
   "cell_type": "code",
   "execution_count": 45,
   "metadata": {},
   "outputs": [],
   "source": [
    "# With this prior, being \"consistent\" is more likely\n",
    "# to mean \"consistently bad\"."
   ]
  },
  {
   "cell_type": "code",
   "execution_count": null,
   "metadata": {},
   "outputs": [],
   "source": []
  }
 ],
 "metadata": {
  "kernelspec": {
   "display_name": "Python 3",
   "language": "python",
   "name": "python3"
  },
  "language_info": {
   "codemirror_mode": {
    "name": "ipython",
    "version": 3
   },
   "file_extension": ".py",
   "mimetype": "text/x-python",
   "name": "python",
   "nbconvert_exporter": "python",
   "pygments_lexer": "ipython3",
   "version": "3.8.3"
  }
 },
 "nbformat": 4,
 "nbformat_minor": 4
}